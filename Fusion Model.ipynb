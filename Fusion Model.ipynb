{
 "cells": [
  {
   "cell_type": "markdown",
   "id": "e2e1582b",
   "metadata": {},
   "source": [
    "## Ini Buat Uji Coba Model Fusion"
   ]
  },
  {
   "cell_type": "code",
   "execution_count": 1,
   "id": "a9acf753",
   "metadata": {},
   "outputs": [],
   "source": [
    "# nanti dulu gess, kalo yang ini udah bener, baru kita coba yang ini"
   ]
  }
 ],
 "metadata": {
  "kernelspec": {
   "display_name": ".venv",
   "language": "python",
   "name": "python3"
  },
  "language_info": {
   "codemirror_mode": {
    "name": "ipython",
    "version": 3
   },
   "file_extension": ".py",
   "mimetype": "text/x-python",
   "name": "python",
   "nbconvert_exporter": "python",
   "pygments_lexer": "ipython3",
   "version": "3.12.11"
  }
 },
 "nbformat": 4,
 "nbformat_minor": 5
}
