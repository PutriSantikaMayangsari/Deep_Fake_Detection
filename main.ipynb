{
 "cells": [
  {
   "cell_type": "markdown",
   "id": "af1cb432",
   "metadata": {},
   "source": [
    "# Project Group 2\n",
    "\n",
    "just dummy files, supaya file ipynb bisa dibuka"
   ]
  },
  {
   "cell_type": "code",
   "execution_count": null,
   "id": "c9453226",
   "metadata": {},
   "outputs": [],
   "source": [
    "# import something"
   ]
  }
 ],
 "metadata": {
  "kernelspec": {
   "display_name": "Python 3",
   "language": "python",
   "name": "python3"
  },
  "language_info": {
   "name": "python",
   "version": "3.13.5"
  }
 },
 "nbformat": 4,
 "nbformat_minor": 5
}
