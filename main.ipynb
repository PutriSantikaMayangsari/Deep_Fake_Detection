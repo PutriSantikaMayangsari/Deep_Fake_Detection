{
 "cells": [
  {
   "cell_type": "markdown",
   "id": "af1cb432",
   "metadata": {},
   "source": [
    "# Project Group 2\n",
    "\n",
    "just dummy files, supaya file ipynb bisa dibuka"
   ]
  },
  {
   "cell_type": "code",
   "execution_count": 7,
   "id": "c9453226",
   "metadata": {},
   "outputs": [
    {
     "name": "stdout",
     "output_type": "stream",
     "text": [
      "Input shape : torch.Size([2, 4, 64, 128, 128])\n",
      "Output shape: torch.Size([2, 4, 64, 128, 128])\n",
      "Test passed!\n"
     ]
    }
   ],
   "source": [
    "# test module STA\n",
    "import torch\n",
    "import sys, os\n",
    "# sys.path.append(os.path.abspath(\"./\"))\n",
    "\n",
    "# from spatio_temporal_attention import SpatiotemporalAttention\n",
    "from modules.spatio_temporal_attention import SpatiotemporalAttention\n",
    "\n",
    "\n",
    "def test_sta():\n",
    "    # Dummy input: batch=2, frames=4, channels=64, H=W=128\n",
    "    x = torch.randn(2, 4, 64, 128, 128)\n",
    "\n",
    "    sta = SpatiotemporalAttention(in_channels=64)\n",
    "    out = sta(x)\n",
    "\n",
    "    print(\"Input shape :\", x.shape)\n",
    "    print(\"Output shape:\", out.shape)\n",
    "\n",
    "    # Pastikan bentuk output sama dengan input\n",
    "    assert out.shape == x.shape, f\"Shape mismatch: {out.shape} vs {x.shape}\"\n",
    "\n",
    "    print(\"Test passed!\")\n",
    "\n",
    "if __name__ == \"__main__\":\n",
    "    test_sta()\n"
   ]
  }
 ],
 "metadata": {
  "kernelspec": {
   "display_name": ".venv",
   "language": "python",
   "name": "python3"
  },
  "language_info": {
   "codemirror_mode": {
    "name": "ipython",
    "version": 3
   },
   "file_extension": ".py",
   "mimetype": "text/x-python",
   "name": "python",
   "nbconvert_exporter": "python",
   "pygments_lexer": "ipython3",
   "version": "3.12.11"
  }
 },
 "nbformat": 4,
 "nbformat_minor": 5
}
